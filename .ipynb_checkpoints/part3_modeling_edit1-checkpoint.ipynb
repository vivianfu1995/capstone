{
 "cells": [
  {
   "cell_type": "markdown",
   "metadata": {},
   "source": [
    " <font color = 'red' > <font size = '5' >Modeling"
   ]
  },
  {
   "cell_type": "code",
   "execution_count": 1,
   "metadata": {},
   "outputs": [],
   "source": [
    "# basic python tools for numbers and visualization\n",
    "import numpy as np\n",
    "import pandas as pd\n",
    "import matplotlib.pyplot as plt\n",
    "import seaborn as sns\n",
    "from collections import Counter\n",
    "\n",
    "# statistics tools\n",
    "import scipy.stats as stats\n",
    "\n",
    "# scale and one hot encoding\n",
    "from sklearn.preprocessing import LabelEncoder, OneHotEncoder\n",
    "\n",
    "# machine learning tools\n",
    "from sklearn import preprocessing \n",
    "\n",
    "# from sklearn.preprocessing import Imputer\n",
    "from sklearn.ensemble import RandomForestClassifier\n",
    "\n",
    "# from sklearn.model_selection import GridSearchCV\n",
    "from sklearn.model_selection import train_test_split\n",
    "\n",
    "from sklearn.linear_model import LogisticRegression\n",
    "from sklearn import linear_model\n",
    "\n",
    "from sklearn.svm import SVC, LinearSVC\n",
    "from sklearn.ensemble import RandomForestClassifier\n",
    "from sklearn.neighbors import KNeighborsClassifier\n",
    "from sklearn.naive_bayes import GaussianNB # Gaussian Naive Bays\n",
    "from sklearn.linear_model import Perceptron\n",
    "from sklearn.tree import DecisionTreeClassifier\n",
    "from sklearn import metrics\n",
    "\n",
    "# other tools\n",
    "from functools import reduce\n",
    "from imblearn.over_sampling import SMOTE\n",
    "import itertools\n",
    "import copy\n",
    "\n",
    "# Clear warnings\n",
    "import warnings\n",
    "warnings.filterwarnings('ignore') # Filter out warnings\n",
    "\n",
    "# show plots inline\n",
    "%matplotlib inline"
   ]
  },
  {
   "cell_type": "markdown",
   "metadata": {},
   "source": [
    "## Split train & test "
   ]
  },
  {
   "cell_type": "code",
   "execution_count": 2,
   "metadata": {},
   "outputs": [],
   "source": [
    "def normal_split_train_test(X,y):\n",
    "    X_train, X_test, y_train, y_test = train_test_split(X,y,test_size = 0.2)\n",
    "#     print(\"Before OverSampling, counts of positive mental diagnosis in y_train:\", sum(y_train==1))\n",
    "#     print(\"Before OverSampling, counts of negative mental diagnosis in y_train:\", sum(y_train==2))\n",
    "    return X_train, X_test, y_train, y_test\n",
    "    \n",
    "def smote_split_train_test(X,y):\n",
    "    X_train, X_test, y_train, y_test = normal_split_train_test(X,y)\n",
    "    \n",
    "    print(\"Before OverSampling, counts of positive depression in y_train:\",sum(y_train==1))\n",
    "    print(\"Before OverSampling, counts of negative depression in y_train:\",sum(y_train==2))\n",
    "\n",
    "    sm = SMOTE(random_state=2)\n",
    "    X_train_res, y_train_res = sm.fit_sample(X_train, y_train.ravel())\n",
    "    \n",
    "    print(\"After OverSampling, counts of positive depression in y_train_res:\",sum(y_train_res==1))\n",
    "    print(\"After OverSampling, counts of negative depression in y_train_res:\",sum(y_train_res==2))\n",
    "    \n",
    "    return X_train_res, X_test, y_train_res, y_test\n"
   ]
  },
  {
   "cell_type": "markdown",
   "metadata": {},
   "source": [
    "## Machine learning models"
   ]
  },
  {
   "cell_type": "code",
   "execution_count": 3,
   "metadata": {},
   "outputs": [],
   "source": [
    "def compute_accuracy(predict, actual):\n",
    "        if len(predict) != len(actual):\n",
    "            return 0\n",
    "        correctness = 0\n",
    "        for i in range(len(predict)):\n",
    "            if predict[i] == actual[i]: \n",
    "                correctness += 1\n",
    "            i += 1\n",
    "        accuracy = correctness / len(predict)\n",
    "        return accuracy\n",
    "    \n",
    "def main(df,model,SMOTE):\n",
    "    y = df['mental diagnosis'].values\n",
    "    X = df.drop(['mental diagnosis'],axis = 1).values\n",
    "    \n",
    "    if SMOTE == False:\n",
    "        X_train, X_test, y_train, y_test = normal_split_train_test(X,y)\n",
    "    else:\n",
    "        X_train, X_test, y_train, y_test = smote_split_train_test(X,y)\n",
    "    \n",
    "    if model == 'logistic regression': \n",
    "        algo = LogisticRegression(C=9,dual=False)\n",
    "    elif model == 'knn':\n",
    "        algo = KNeighborsClassifier(n_neighbors = 3) \n",
    "    elif model == 'SVC':\n",
    "        algo = SVC()\n",
    "    elif model == 'random forest':\n",
    "        algo = RandomForestClassifier(n_estimators=500) \n",
    "    elif model == 'linear SVC':\n",
    "        algo = LinearSVC(C=1000,dual=False)\n",
    "    else:\n",
    "        print('This model is not included yet. Add this model now!')\n",
    "    \n",
    "    algo.fit(X_train,y_train)\n",
    "    train_predictions = algo.predict(X_train)\n",
    "    test_predictions = algo.predict(X_test)    \n",
    "    \n",
    "    print()\n",
    "    print('The training set accuracy is', compute_accuracy(train_predictions, y_train)*100,'%')\n",
    "    print('The testing set accuracy is', compute_accuracy(test_predictions, y_test)*100,'%')"
   ]
  },
  {
   "cell_type": "markdown",
   "metadata": {},
   "source": [
    "## Fit data before SMOTE"
   ]
  },
  {
   "cell_type": "code",
   "execution_count": 4,
   "metadata": {
    "scrolled": true
   },
   "outputs": [
    {
     "data": {
      "text/html": [
       "<div>\n",
       "<style scoped>\n",
       "    .dataframe tbody tr th:only-of-type {\n",
       "        vertical-align: middle;\n",
       "    }\n",
       "\n",
       "    .dataframe tbody tr th {\n",
       "        vertical-align: top;\n",
       "    }\n",
       "\n",
       "    .dataframe thead th {\n",
       "        text-align: right;\n",
       "    }\n",
       "</style>\n",
       "<table border=\"1\" class=\"dataframe\">\n",
       "  <thead>\n",
       "    <tr style=\"text-align: right;\">\n",
       "      <th></th>\n",
       "      <th>mental diagnosis</th>\n",
       "      <th>age</th>\n",
       "      <th>race</th>\n",
       "      <th>family income</th>\n",
       "      <th>education</th>\n",
       "      <th>marital status</th>\n",
       "      <th>male</th>\n",
       "      <th>female</th>\n",
       "      <th>freq:12 drinks/yr?</th>\n",
       "      <th>alco freq year</th>\n",
       "      <th>...</th>\n",
       "      <th>sm 100 cig?</th>\n",
       "      <th>sm yrs</th>\n",
       "      <th>nicotine content</th>\n",
       "      <th>work type</th>\n",
       "      <th>weekly work hrs</th>\n",
       "      <th>activity level</th>\n",
       "      <th>monthly activity freq</th>\n",
       "      <th>activity duration</th>\n",
       "      <th>BMI</th>\n",
       "      <th>weight goal outcome</th>\n",
       "    </tr>\n",
       "  </thead>\n",
       "  <tbody>\n",
       "    <tr>\n",
       "      <th>0</th>\n",
       "      <td>2</td>\n",
       "      <td>1.342887</td>\n",
       "      <td>3.0</td>\n",
       "      <td>3</td>\n",
       "      <td>0</td>\n",
       "      <td>1.0</td>\n",
       "      <td>1</td>\n",
       "      <td>0</td>\n",
       "      <td>1.0</td>\n",
       "      <td>-0.383705</td>\n",
       "      <td>...</td>\n",
       "      <td>2.0</td>\n",
       "      <td>2.495890</td>\n",
       "      <td>-0.289257</td>\n",
       "      <td>1.0</td>\n",
       "      <td>1.154879</td>\n",
       "      <td>1.0</td>\n",
       "      <td>-0.377654</td>\n",
       "      <td>0.280776</td>\n",
       "      <td>-0.016783</td>\n",
       "      <td>2</td>\n",
       "    </tr>\n",
       "    <tr>\n",
       "      <th>1</th>\n",
       "      <td>2</td>\n",
       "      <td>-1.068760</td>\n",
       "      <td>1.0</td>\n",
       "      <td>1</td>\n",
       "      <td>0</td>\n",
       "      <td>1.0</td>\n",
       "      <td>0</td>\n",
       "      <td>1</td>\n",
       "      <td>1.0</td>\n",
       "      <td>1.458122</td>\n",
       "      <td>...</td>\n",
       "      <td>1.0</td>\n",
       "      <td>-0.571269</td>\n",
       "      <td>0.219321</td>\n",
       "      <td>4.0</td>\n",
       "      <td>-1.029785</td>\n",
       "      <td>1.0</td>\n",
       "      <td>-0.543703</td>\n",
       "      <td>-0.541560</td>\n",
       "      <td>-0.080694</td>\n",
       "      <td>1</td>\n",
       "    </tr>\n",
       "    <tr>\n",
       "      <th>2</th>\n",
       "      <td>1</td>\n",
       "      <td>1.515148</td>\n",
       "      <td>4.0</td>\n",
       "      <td>0</td>\n",
       "      <td>0</td>\n",
       "      <td>1.0</td>\n",
       "      <td>0</td>\n",
       "      <td>1</td>\n",
       "      <td>1.0</td>\n",
       "      <td>0.007709</td>\n",
       "      <td>...</td>\n",
       "      <td>1.0</td>\n",
       "      <td>-0.745823</td>\n",
       "      <td>1.338191</td>\n",
       "      <td>4.0</td>\n",
       "      <td>-0.969726</td>\n",
       "      <td>1.0</td>\n",
       "      <td>1.061435</td>\n",
       "      <td>-0.541560</td>\n",
       "      <td>-0.082984</td>\n",
       "      <td>2</td>\n",
       "    </tr>\n",
       "    <tr>\n",
       "      <th>3</th>\n",
       "      <td>2</td>\n",
       "      <td>1.342887</td>\n",
       "      <td>1.0</td>\n",
       "      <td>1</td>\n",
       "      <td>1</td>\n",
       "      <td>3.0</td>\n",
       "      <td>1</td>\n",
       "      <td>0</td>\n",
       "      <td>2.0</td>\n",
       "      <td>-0.579113</td>\n",
       "      <td>...</td>\n",
       "      <td>2.0</td>\n",
       "      <td>-0.172289</td>\n",
       "      <td>0.473609</td>\n",
       "      <td>1.0</td>\n",
       "      <td>1.305028</td>\n",
       "      <td>2.0</td>\n",
       "      <td>0.231191</td>\n",
       "      <td>-0.678616</td>\n",
       "      <td>-0.034844</td>\n",
       "      <td>1</td>\n",
       "    </tr>\n",
       "    <tr>\n",
       "      <th>4</th>\n",
       "      <td>2</td>\n",
       "      <td>-0.379718</td>\n",
       "      <td>4.0</td>\n",
       "      <td>0</td>\n",
       "      <td>1</td>\n",
       "      <td>3.0</td>\n",
       "      <td>1</td>\n",
       "      <td>0</td>\n",
       "      <td>1.0</td>\n",
       "      <td>0.732915</td>\n",
       "      <td>...</td>\n",
       "      <td>2.0</td>\n",
       "      <td>-0.396716</td>\n",
       "      <td>1.389049</td>\n",
       "      <td>1.0</td>\n",
       "      <td>-1.322575</td>\n",
       "      <td>1.0</td>\n",
       "      <td>6.042899</td>\n",
       "      <td>-0.747144</td>\n",
       "      <td>0.045181</td>\n",
       "      <td>2</td>\n",
       "    </tr>\n",
       "  </tbody>\n",
       "</table>\n",
       "<p>5 rows × 34 columns</p>\n",
       "</div>"
      ],
      "text/plain": [
       "   mental diagnosis       age  race  family income  education  marital status  \\\n",
       "0                 2  1.342887   3.0              3          0             1.0   \n",
       "1                 2 -1.068760   1.0              1          0             1.0   \n",
       "2                 1  1.515148   4.0              0          0             1.0   \n",
       "3                 2  1.342887   1.0              1          1             3.0   \n",
       "4                 2 -0.379718   4.0              0          1             3.0   \n",
       "\n",
       "   male  female  freq:12 drinks/yr?  alco freq year         ...           \\\n",
       "0     1       0                 1.0       -0.383705         ...            \n",
       "1     0       1                 1.0        1.458122         ...            \n",
       "2     0       1                 1.0        0.007709         ...            \n",
       "3     1       0                 2.0       -0.579113         ...            \n",
       "4     1       0                 1.0        0.732915         ...            \n",
       "\n",
       "   sm 100 cig?    sm yrs  nicotine content  work type  weekly work hrs  \\\n",
       "0          2.0  2.495890         -0.289257        1.0         1.154879   \n",
       "1          1.0 -0.571269          0.219321        4.0        -1.029785   \n",
       "2          1.0 -0.745823          1.338191        4.0        -0.969726   \n",
       "3          2.0 -0.172289          0.473609        1.0         1.305028   \n",
       "4          2.0 -0.396716          1.389049        1.0        -1.322575   \n",
       "\n",
       "   activity level  monthly activity freq  activity duration       BMI  \\\n",
       "0             1.0              -0.377654           0.280776 -0.016783   \n",
       "1             1.0              -0.543703          -0.541560 -0.080694   \n",
       "2             1.0               1.061435          -0.541560 -0.082984   \n",
       "3             2.0               0.231191          -0.678616 -0.034844   \n",
       "4             1.0               6.042899          -0.747144  0.045181   \n",
       "\n",
       "   weight goal outcome  \n",
       "0                    2  \n",
       "1                    1  \n",
       "2                    2  \n",
       "3                    1  \n",
       "4                    2  \n",
       "\n",
       "[5 rows x 34 columns]"
      ]
     },
     "execution_count": 4,
     "metadata": {},
     "output_type": "execute_result"
    }
   ],
   "source": [
    "df = pd.read_csv('part 2 dataframe.csv')\n",
    "df.head()"
   ]
  },
  {
   "cell_type": "code",
   "execution_count": 5,
   "metadata": {},
   "outputs": [
    {
     "name": "stdout",
     "output_type": "stream",
     "text": [
      "\n",
      "The training set accuracy is 92.02702702702703 %\n",
      "The testing set accuracy is 89.1891891891892 %\n"
     ]
    }
   ],
   "source": [
    "main(df,'logistic regression',False)"
   ]
  },
  {
   "cell_type": "code",
   "execution_count": 6,
   "metadata": {},
   "outputs": [
    {
     "name": "stdout",
     "output_type": "stream",
     "text": [
      "\n",
      "The training set accuracy is 92.97297297297298 %\n",
      "The testing set accuracy is 90.27027027027027 %\n"
     ]
    }
   ],
   "source": [
    "main(df,'knn',False)"
   ]
  },
  {
   "cell_type": "code",
   "execution_count": 7,
   "metadata": {},
   "outputs": [
    {
     "name": "stdout",
     "output_type": "stream",
     "text": [
      "\n",
      "The training set accuracy is 91.48648648648648 %\n",
      "The testing set accuracy is 91.8918918918919 %\n"
     ]
    }
   ],
   "source": [
    "main(df,'SVC',False)"
   ]
  },
  {
   "cell_type": "code",
   "execution_count": 8,
   "metadata": {},
   "outputs": [
    {
     "name": "stdout",
     "output_type": "stream",
     "text": [
      "\n",
      "The training set accuracy is 100.0 %\n",
      "The testing set accuracy is 90.81081081081082 %\n"
     ]
    }
   ],
   "source": [
    "main(df,'random forest',False)"
   ]
  },
  {
   "cell_type": "code",
   "execution_count": 9,
   "metadata": {
    "scrolled": true
   },
   "outputs": [
    {
     "name": "stdout",
     "output_type": "stream",
     "text": [
      "\n",
      "The training set accuracy is 91.35135135135135 %\n",
      "The testing set accuracy is 91.35135135135135 %\n"
     ]
    }
   ],
   "source": [
    "main(df,'linear SVC',False)"
   ]
  },
  {
   "cell_type": "markdown",
   "metadata": {},
   "source": [
    "## Fit data after SMOTE"
   ]
  },
  {
   "cell_type": "code",
   "execution_count": 10,
   "metadata": {},
   "outputs": [
    {
     "name": "stdout",
     "output_type": "stream",
     "text": [
      "Before OverSampling, counts of positive depression in y_train: 60\n",
      "Before OverSampling, counts of negative depression in y_train: 680\n",
      "After OverSampling, counts of positive depression in y_train_res: 680\n",
      "After OverSampling, counts of negative depression in y_train_res: 680\n",
      "\n",
      "The training set accuracy is 75.88235294117646 %\n",
      "The testing set accuracy is 68.64864864864865 %\n"
     ]
    }
   ],
   "source": [
    "main(df,'logistic regression',True)"
   ]
  },
  {
   "cell_type": "code",
   "execution_count": 11,
   "metadata": {},
   "outputs": [
    {
     "name": "stdout",
     "output_type": "stream",
     "text": [
      "Before OverSampling, counts of positive depression in y_train: 66\n",
      "Before OverSampling, counts of negative depression in y_train: 674\n",
      "After OverSampling, counts of positive depression in y_train_res: 674\n",
      "After OverSampling, counts of negative depression in y_train_res: 674\n",
      "\n",
      "The training set accuracy is 91.17210682492582 %\n",
      "The testing set accuracy is 67.02702702702703 %\n"
     ]
    }
   ],
   "source": [
    "main(df,'knn',True)"
   ]
  },
  {
   "cell_type": "code",
   "execution_count": 12,
   "metadata": {},
   "outputs": [
    {
     "name": "stdout",
     "output_type": "stream",
     "text": [
      "Before OverSampling, counts of positive depression in y_train: 65\n",
      "Before OverSampling, counts of negative depression in y_train: 675\n",
      "After OverSampling, counts of positive depression in y_train_res: 675\n",
      "After OverSampling, counts of negative depression in y_train_res: 675\n",
      "\n",
      "The training set accuracy is 93.85185185185185 %\n",
      "The testing set accuracy is 79.45945945945945 %\n"
     ]
    }
   ],
   "source": [
    "main(df,'SVC',True)"
   ]
  },
  {
   "cell_type": "code",
   "execution_count": 13,
   "metadata": {},
   "outputs": [
    {
     "name": "stdout",
     "output_type": "stream",
     "text": [
      "Before OverSampling, counts of positive depression in y_train: 65\n",
      "Before OverSampling, counts of negative depression in y_train: 675\n",
      "After OverSampling, counts of positive depression in y_train_res: 675\n",
      "After OverSampling, counts of negative depression in y_train_res: 675\n",
      "\n",
      "The training set accuracy is 100.0 %\n",
      "The testing set accuracy is 91.8918918918919 %\n"
     ]
    }
   ],
   "source": [
    "main(df,'random forest',True)"
   ]
  },
  {
   "cell_type": "code",
   "execution_count": 14,
   "metadata": {},
   "outputs": [
    {
     "name": "stdout",
     "output_type": "stream",
     "text": [
      "Before OverSampling, counts of positive depression in y_train: 61\n",
      "Before OverSampling, counts of negative depression in y_train: 679\n",
      "After OverSampling, counts of positive depression in y_train_res: 679\n",
      "After OverSampling, counts of negative depression in y_train_res: 679\n",
      "\n",
      "The training set accuracy is 70.83946980854198 %\n",
      "The testing set accuracy is 65.4054054054054 %\n"
     ]
    }
   ],
   "source": [
    "main(df,'linear SVC',True)"
   ]
  }
 ],
 "metadata": {
  "kernelspec": {
   "display_name": "Python 3",
   "language": "python",
   "name": "python3"
  },
  "language_info": {
   "codemirror_mode": {
    "name": "ipython",
    "version": 3
   },
   "file_extension": ".py",
   "mimetype": "text/x-python",
   "name": "python",
   "nbconvert_exporter": "python",
   "pygments_lexer": "ipython3",
   "version": "3.6.5"
  }
 },
 "nbformat": 4,
 "nbformat_minor": 2
}
